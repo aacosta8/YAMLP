{
 "cells": [
  {
   "cell_type": "code",
   "execution_count": 1,
   "metadata": {
    "collapsed": true
   },
   "outputs": [],
   "source": [
    "import numpy as np\n",
    "import pandas as pd\n",
    "import os\n",
    "import os.path as path"
   ]
  },
  {
   "cell_type": "code",
   "execution_count": 13,
   "metadata": {
    "collapsed": true
   },
   "outputs": [],
   "source": [
    "def merge_files(data):\n",
    "    def filter_file(f,d):\n",
    "        data=pd.read_csv(path.join(d,f))\n",
    "        p=data[\"radiacion\"] > 0\n",
    "        d=data[\"calidad\"] <= 2\n",
    "        r=data[p&d].iloc[:,[0,2]]\n",
    "        r.columns = [\"time\",\"rad\"]\n",
    "        return r\n",
    "    files = os.listdir(data[0])\n",
    "    f=list(map(filter_file, files,[data[0]]*len(files)))\n",
    "    dt = f[0].append(f[1:])\n",
    "    dt=dt.reset_index(drop=True)\n",
    "    dt.to_csv(path.join(data[0],data[1]),index=False)"
   ]
  },
  {
   "cell_type": "code",
   "execution_count": 14,
   "metadata": {},
   "outputs": [
    {
     "data": {
      "text/plain": [
       "[None, None, None]"
      ]
     },
     "execution_count": 14,
     "metadata": {},
     "output_type": "execute_result"
    }
   ],
   "source": [
    "locations = [r\"C:\\Users\\Lombardo\\Downloads\\Datos\\Radiation\\6001\",r\"C:\\Users\\Lombardo\\Downloads\\Datos\\Radiation\\6002\",\n",
    "             r\"C:\\Users\\Lombardo\\Downloads\\Datos\\Radiation\\6003\"]\n",
    "names= [\"6001.csv\",\"6002.csv\",\"6003.csv\"]\n",
    "list(map(merge_files, zip(locations, names)))"
   ]
  }
 ],
 "metadata": {
  "kernelspec": {
   "display_name": "Python [conda root]",
   "language": "python",
   "name": "conda-root-py"
  },
  "language_info": {
   "codemirror_mode": {
    "name": "ipython",
    "version": 3
   },
   "file_extension": ".py",
   "mimetype": "text/x-python",
   "name": "python",
   "nbconvert_exporter": "python",
   "pygments_lexer": "ipython3",
   "version": "3.6.2"
  }
 },
 "nbformat": 4,
 "nbformat_minor": 2
}
